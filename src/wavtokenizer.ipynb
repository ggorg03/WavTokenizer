{
 "cells": [
  {
   "cell_type": "code",
   "execution_count": 3,
   "metadata": {},
   "outputs": [],
   "source": [
    "from encoder.utils import convert_audio\n",
    "import torchaudio\n",
    "import torch\n",
    "from decoder.pretrained import WavTokenizer\n",
    "import glob"
   ]
  },
  {
   "cell_type": "code",
   "execution_count": 4,
   "metadata": {},
   "outputs": [],
   "source": [
    "device=torch.device('cpu')\n",
    "\n",
    "config_path = \"../configs/wavtokenizer_smalldata_frame40_3s_nq1_code4096_dim512_kmeans200_attn.yaml\"\n",
    "model_path = \"../checkpoints/WavTokenizer_small_600_24k_4096.ckpt\"\n",
    "audio_path = \"../data/common_voice_pt/clips/common_voice_pt_19273359.mp3\"\n",
    "\n",
    "wavtokenizer = WavTokenizer.from_pretrained0802(config_path, model_path)\n",
    "wavtokenizer = wavtokenizer.to(device)"
   ]
  },
  {
   "cell_type": "code",
   "execution_count": 5,
   "metadata": {},
   "outputs": [],
   "source": [
    "path_to_wavs = '../data/common_voice_pt/clips'\n",
    "pattern = f'{path_to_wavs}/*.mp3'\n",
    "\n",
    "wavs_path = glob.glob(pattern)\n",
    "wavs_path = wavs_path[:5]"
   ]
  },
  {
   "cell_type": "code",
   "execution_count": 6,
   "metadata": {},
   "outputs": [],
   "source": [
    "for audio_path in wavs_path:\n",
    "    wav, sr = torchaudio.load(audio_path)\n",
    "    wav = convert_audio(wav, sr, 24000, 1)\n",
    "    bandwidth_id = torch.tensor([0])\n",
    "    wav=wav.to(device)\n",
    "    features,discrete_code= wavtokenizer.encode_infer(wav, bandwidth_id=bandwidth_id)\n",
    "\n",
    "    file_name = audio_path.split('/')[-1].split('.')[0]\n",
    "    code_outpath = '../output/' + file_name + '.pt'\n",
    "    audio_outpath = '../output/' + file_name + '_infer.wav'\n",
    "    audio_outpath = '../output/' + file_name + '_orig.wav'\n",
    "\n",
    "    torch.save(discrete_code, code_outpath)\n",
    "\n",
    "    bandwidth_id = torch.tensor([0])  \n",
    "    audio_out = wavtokenizer.decode(features, bandwidth_id=bandwidth_id)\n",
    "\n",
    "    torchaudio.save(audio_outpath, wav, sample_rate=24000, encoding='PCM_S', bits_per_sample=16)\n",
    "    torchaudio.save(audio_outpath, audio_out, sample_rate=24000, encoding='PCM_S', bits_per_sample=16)"
   ]
  }
 ],
 "metadata": {
  "kernelspec": {
   "display_name": "wavtokenizer",
   "language": "python",
   "name": "python3"
  },
  "language_info": {
   "codemirror_mode": {
    "name": "ipython",
    "version": 3
   },
   "file_extension": ".py",
   "mimetype": "text/x-python",
   "name": "python",
   "nbconvert_exporter": "python",
   "pygments_lexer": "ipython3",
   "version": "3.9.0"
  }
 },
 "nbformat": 4,
 "nbformat_minor": 2
}
